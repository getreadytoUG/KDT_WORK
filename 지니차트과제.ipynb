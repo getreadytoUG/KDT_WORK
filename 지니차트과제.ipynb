{
  "nbformat": 4,
  "nbformat_minor": 0,
  "metadata": {
    "colab": {
      "provenance": [],
      "authorship_tag": "ABX9TyNCMqcNYuFjBsEdKf/9/abK",
      "include_colab_link": true
    },
    "kernelspec": {
      "name": "python3",
      "display_name": "Python 3"
    },
    "language_info": {
      "name": "python"
    }
  },
  "cells": [
    {
      "cell_type": "markdown",
      "metadata": {
        "id": "view-in-github",
        "colab_type": "text"
      },
      "source": [
        "<a href=\"https://colab.research.google.com/github/getreadytoUG/KDT_WORK/blob/main/%EC%A7%80%EB%8B%88%EC%B0%A8%ED%8A%B8%EA%B3%BC%EC%A0%9C.ipynb\" target=\"_parent\"><img src=\"https://colab.research.google.com/assets/colab-badge.svg\" alt=\"Open In Colab\"/></a>"
      ]
    },
    {
      "cell_type": "code",
      "source": [
        "# 과제\n",
        "# 지니 차트 1위 ~ 200위 까지 크롤링\n",
        "# 반복문을 사용하여 크롤링\n",
        "# https://www.genie.co.kr/chart/top200?ditc=D&ymd=20231122&hh=14&rtm=Y&pg=1\n",
        "# https://www.genie.co.kr/chart/top200?ditc=D&ymd=20231122&hh=14&rtm=Y&pg=2\n",
        "# https://www.genie.co.kr/chart/top200?ditc=D&ymd=20231122&hh=14&rtm=Y&pg=3\n",
        "# https://www.genie.co.kr/chart/top200?ditc=D&ymd=20231122&hh=14&rtm=Y&pg=4\n",
        "# sleep\n",
        "# 엑셀로 내보내기 기능\n",
        "# 과제 제출은 github로 내보내기!\n",
        "\n",
        "import requests\n",
        "from bs4 import BeautifulSoup\n",
        "import time\n",
        "import pandas as pd\n",
        "\n",
        "ranking = []\n",
        "rank = 1\n",
        "for i in range(1, 5):\n",
        "    header = { \"User-Agent\" : \"Mozilla/5.0 (Windows NT 10.0; Win64; x64)\"}\n",
        "    request = requests.get(f\"https://www.genie.co.kr/chart/top200?ditc=D&ymd=20231122&hh=14&rtm=Y&pg={i}\", headers=header)\n",
        "    soup = BeautifulSoup(request.text)\n",
        "    chart_body = soup.find(\"table\", {\"class\": \"list-wrap\"}).find(\"tbody\").findAll(\"tr\")\n",
        "    for j in chart_body:\n",
        "        title = j.find(\"td\", {\"class\": \"info\"}).find(\"a\", {\"class\": \"title\"}).text.replace(\"\\n\",'').replace(' ','').strip()\n",
        "        artist = j.find(\"td\", {\"class\": \"info\"}).find(\"a\", {\"class\": \"artist\"}).text.replace(\"\\n\",'').replace(' ','').strip()\n",
        "        song = {\"rank\": rank, \"title\": title, \"artist\": artist}\n",
        "        ranking.append(song)\n",
        "        rank += 1\n",
        "    time.sleep(1.5)\n",
        "\n",
        "df = pd.DataFrame(ranking)\n",
        "df.to_excel(\"genie_music_chart_1_to_200.xlsx\")"
      ],
      "metadata": {
        "id": "Px8KrhWobT6n"
      },
      "execution_count": 22,
      "outputs": []
    }
  ]
}